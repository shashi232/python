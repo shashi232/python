import os
import pywhatkit

choice = input("""
1. Open Notepad
2. Open Chrome
3. Send WhatsApp
Enter choice: """)

if choice == "1":
    os.system("notepad.exe")
elif choice == "2":
    os.system("chrome.exe")
elif choice == "3":
    pywhatkit.sendwhatmsg("+1234567890", "Hello!", 15, 30)
else:
    print("Invalid choice")


exp = 5
if exp > 5:
    print("I will give job")
    print("Bonus: You get a company car!")
else:
    print("I will not give job")

# include


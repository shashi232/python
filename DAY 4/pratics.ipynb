{
 "cells": [
  {
   "cell_type": "code",
   "execution_count": null,
   "id": "b799445e",
   "metadata": {},
   "outputs": [
    {
     "name": "stderr",
     "output_type": "stream",
     "text": [
      "[ WARN:0@1209.680] global cap_v4l.cpp:913 open VIDEOIO(V4L2:/dev/video0): can't open camera by index\n",
      "[ERROR:0@1209.681] global obsensor_uvc_stream_channel.cpp:158 getStreamChannelGroup Camera index out of range\n"
     ]
    }
   ],
   "source": [
    "import numpy\n",
    "import cv2\n",
    "la = [\n",
    "    [1,2,3],\n",
    "    ['shashi','ravi','veer'],\n",
    "    ['hello','hey','hi']\n",
    "]\n",
    "ls = numpy.array(la)\n",
    "ls[1:3,2]\n",
    "\n",
    " \n",
    "\n",
    "cam = cv2.VideoCapture(0)       \n",
    "success, photo = cam.read()                  \n",
    "cv2.imwrite('selfie.jpg', photo)\n",
    "cv2.imshow(\"My Photo\", photo)\n",
    "\n",
    "cv2.waitKey()\n",
    "cv2.destroyAllWindows()  \n",
    "\n",
    "\n",
    "\n",
    "\n",
    "\n"
   ]
  },
  {
   "cell_type": "code",
   "execution_count": null,
   "id": "4c76dbf6",
   "metadata": {},
   "outputs": [],
   "source": []
  }
 ],
 "metadata": {
  "kernelspec": {
   "display_name": "base",
   "language": "python",
   "name": "python3"
  },
  "language_info": {
   "codemirror_mode": {
    "name": "ipython",
    "version": 3
   },
   "file_extension": ".py",
   "mimetype": "text/x-python",
   "name": "python",
   "nbconvert_exporter": "python",
   "pygments_lexer": "ipython3",
   "version": "3.11.7"
  }
 },
 "nbformat": 4,
 "nbformat_minor": 5
}

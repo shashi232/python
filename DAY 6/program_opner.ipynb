{
 "cells": [
  {
   "cell_type": "code",
   "execution_count": null,
   "id": "c33225bc",
   "metadata": {},
   "outputs": [
    {
     "ename": "SyntaxError",
     "evalue": "'(' was never closed (1116822458.py, line 15)",
     "output_type": "error",
     "traceback": [
      "\u001b[0;36m  Cell \u001b[0;32mIn[16], line 15\u001b[0;36m\u001b[0m\n\u001b[0;31m    user_msg = user_request.split(\u001b[0m\n\u001b[0m                                 ^\u001b[0m\n\u001b[0;31mSyntaxError\u001b[0m\u001b[0;31m:\u001b[0m '(' was never closed\n"
     ]
    }
   ],
   "source": [
    "import os\n",
    "import pywhatkit\n",
    "import datetime\n",
    "\n",
    "time = datetime.datetime.now()\n",
    "scheduled_time = time + datetime.timedelta(minutes=2)\n",
    "\n",
    "print(\"\\t\\tWelcome to Automation Tool\")\n",
    "print(\"\\t\\t-------------------------\")\n",
    "print(\"Options: Open notepad | Launch Brave | Send WhatsApp\")\n",
    "print()\n",
    "\n",
    "user_request = input(\"How can I help? \").lower()\n",
    "\n",
    "# user_msg = user_request.split()\n",
    "\n",
    "# Natural language processing\n",
    "if \"notepad\" in user_request and \"don't\" not in user_request:\n",
    "    os.system(\"notepad\")\n",
    "    print(\"Notepad launched successfully!\")\n",
    "elif \"brave\" in user_request or \"browser\" in user_request:\n",
    "    os.system(\"brave\")\n",
    "    print(\"Brave browser opened!\")\n",
    "elif \"whatsapp\" in user_request:\n",
    "    pywhatkit.sendwhatmsg(\"+919002439467\", \"Automated message\", scheduled_time.hour , scheduled_time.minute, 60)\n",
    "    print(\"WhatsApp message scheduled!\")\n",
    "else:\n",
    "    print(\"Sorry, I didn't understand that request.\")"
   ]
  }
 ],
 "metadata": {
  "kernelspec": {
   "display_name": "base",
   "language": "python",
   "name": "python3"
  },
  "language_info": {
   "codemirror_mode": {
    "name": "ipython",
    "version": 3
   },
   "file_extension": ".py",
   "mimetype": "text/x-python",
   "name": "python",
   "nbconvert_exporter": "python",
   "pygments_lexer": "ipython3",
   "version": "3.11.7"
  }
 },
 "nbformat": 4,
 "nbformat_minor": 5
}

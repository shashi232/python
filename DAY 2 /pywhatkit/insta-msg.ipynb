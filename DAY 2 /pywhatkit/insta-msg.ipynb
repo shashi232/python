{
 "cells": [
  {
   "cell_type": "code",
   "execution_count": 1,
   "id": "815e9db7-5445-4a49-8060-d612a52f59a3",
   "metadata": {},
   "outputs": [],
   "source": [
    "import instabot\n"
   ]
  },
  {
   "cell_type": "code",
   "execution_count": 2,
   "id": "459dbe6b-0824-48f4-a00c-bee2af99fe5d",
   "metadata": {},
   "outputs": [
    {
     "ename": "NameError",
     "evalue": "name 'bot' is not defined",
     "output_type": "error",
     "traceback": [
      "\u001b[0;31m---------------------------------------------------------------------------\u001b[0m",
      "\u001b[0;31mNameError\u001b[0m                                 Traceback (most recent call last)",
      "Cell \u001b[0;32mIn[2], line 1\u001b[0m\n\u001b[0;32m----> 1\u001b[0m bot \u001b[38;5;241m=\u001b[39m bot()\n",
      "\u001b[0;31mNameError\u001b[0m: name 'bot' is not defined"
     ]
    }
   ],
   "source": [
    "bot = bot()"
   ]
  },
  {
   "cell_type": "code",
   "execution_count": null,
   "id": "8cecf86e-93c1-4b42-8209-ef2c4c3b94bc",
   "metadata": {},
   "outputs": [],
   "source": []
  }
 ],
 "metadata": {
  "kernelspec": {
   "display_name": "Python [conda env:base] *",
   "language": "python",
   "name": "conda-base-py"
  },
  "language_info": {
   "codemirror_mode": {
    "name": "ipython",
    "version": 3
   },
   "file_extension": ".py",
   "mimetype": "text/x-python",
   "name": "python",
   "nbconvert_exporter": "python",
   "pygments_lexer": "ipython3",
   "version": "3.11.7"
  }
 },
 "nbformat": 4,
 "nbformat_minor": 5
}

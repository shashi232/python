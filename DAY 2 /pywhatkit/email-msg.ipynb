{
 "cells": [
  {
   "cell_type": "code",
   "execution_count": 3,
   "id": "d7507fe3-5813-481b-bc1b-efa56c121266",
   "metadata": {},
   "outputs": [],
   "source": [
    "import pywhatkit \n"
   ]
  },
  {
   "cell_type": "code",
   "execution_count": null,
   "id": "991d8ae3-a13e-417c-949b-e18570709a47",
   "metadata": {},
   "outputs": [],
   "source": [
    "#here we using send_mail(email_sender: str, password: str, subject: str, message: Union[str, email.mime.text.MIMEText], email_receiver: str)\n",
    "pywhatkit.send_mail(\"shashiveer232@gmail.com\" ,\"7908773175\", \"hello\" ,\"hello\",\"shashiveer232@mail.com\" )"
   ]
  }
 ],
 "metadata": {
  "kernelspec": {
   "display_name": "Python [conda env:base] *",
   "language": "python",
   "name": "conda-base-py"
  },
  "language_info": {
   "codemirror_mode": {
    "name": "ipython",
    "version": 3
   },
   "file_extension": ".py",
   "mimetype": "text/x-python",
   "name": "python",
   "nbconvert_exporter": "python",
   "pygments_lexer": "ipython3",
   "version": "3.11.7"
  }
 },
 "nbformat": 4,
 "nbformat_minor": 5
}

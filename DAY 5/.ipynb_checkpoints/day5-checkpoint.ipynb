{
 "cells": [
  {
   "cell_type": "code",
   "execution_count": 1,
   "id": "4e13dd3f",
   "metadata": {},
   "outputs": [
    {
     "name": "stderr",
     "output_type": "stream",
     "text": [
      "sh: line 1: notepad.exe: command not found\n"
     ]
    }
   ],
   "source": [
    "import os\n",
    "import pywhatkit\n",
    "\n",
    "choice = input(\"\"\"\n",
    "1. Open Notepad\n",
    "2. Open Chrome\n",
    "3. Send WhatsApp\n",
    "Enter choice: \"\"\")\n",
    "\n",
    "if choice == \"1\":\n",
    "    os.system(\"notepad.exe\")\n",
    "elif choice == \"2\":\n",
    "    os.system(\"chrome.exe\")\n",
    "elif choice == \"3\":\n",
    "    pywhatkit.sendwhatmsg(\"+1234567890\", \"Hello!\", 15, 30)\n",
    "else:\n",
    "    print(\"Invalid choice\")"
   ]
  },
  {
   "cell_type": "code",
   "execution_count": null,
   "id": "4afc19c5",
   "metadata": {},
   "outputs": [
    {
     "name": "stdout",
     "output_type": "stream",
     "text": [
      "I will not give job\n"
     ]
    }
   ],
   "source": [
    "exp = 5\n",
    "if exp > 5:\n",
    "    print(\"I will give job\")\n",
    "    print(\"Bonus: You get a company car!\")\n",
    "else:\n",
    "    print(\"I will not give job\")\n",
    "\n",
    "# include\n"
   ]
  }
 ],
 "metadata": {
  "kernelspec": {
   "display_name": "base",
   "language": "python",
   "name": "python3"
  },
  "language_info": {
   "codemirror_mode": {
    "name": "ipython",
    "version": 3
   },
   "file_extension": ".py",
   "mimetype": "text/x-python",
   "name": "python",
   "nbconvert_exporter": "python",
   "pygments_lexer": "ipython3",
   "version": "3.11.7"
  }
 },
 "nbformat": 4,
 "nbformat_minor": 5
}

{
 "cells": [
  {
   "cell_type": "code",
   "execution_count": null,
   "id": "4ba53cbe",
   "metadata": {},
   "outputs": [
    {
     "ename": "ModuleNotFoundError",
     "evalue": "No module named 'Speech_Recognition'",
     "output_type": "error",
     "traceback": [
      "\u001b[0;31m---------------------------------------------------------------------------\u001b[0m",
      "\u001b[0;31mModuleNotFoundError\u001b[0m                       Traceback (most recent call last)",
      "Cell \u001b[0;32mIn[4], line 4\u001b[0m\n\u001b[1;32m      2\u001b[0m \u001b[38;5;28;01mimport\u001b[39;00m \u001b[38;5;21;01mpywhatkit\u001b[39;00m\n\u001b[1;32m      3\u001b[0m \u001b[38;5;28;01mimport\u001b[39;00m \u001b[38;5;21;01mdatetime\u001b[39;00m\n\u001b[0;32m----> 4\u001b[0m \u001b[38;5;28;01mimport\u001b[39;00m \u001b[38;5;21;01mSpeech_Recognition\u001b[39;00m \u001b[38;5;28;01mas\u001b[39;00m \u001b[38;5;21;01msr\u001b[39;00m\n\u001b[1;32m      6\u001b[0m \u001b[38;5;66;03m# this for datetime module\u001b[39;00m\n\u001b[1;32m      7\u001b[0m time \u001b[38;5;241m=\u001b[39m datetime\u001b[38;5;241m.\u001b[39mdatetime\u001b[38;5;241m.\u001b[39mnow()\n",
      "\u001b[0;31mModuleNotFoundError\u001b[0m: No module named 'Speech_Recognition'"
     ]
    }
   ],
   "source": [
    "import os\n",
    "import pywhatkit\n",
    "import datetime\n",
    "import  as sr\n",
    "\n",
    "# this for datetime module\n",
    "time = datetime.datetime.now()\n",
    "scheduled_time = time + datetime.timedelta(minutes=2)\n",
    "\n",
    "# this is for speechrecognition module\n",
    "with sr.microphone() as mic :\n",
    "    print(\"speck now\")\n",
    "    audio_data = sr.recognition(mic)\n",
    "    print(\"recording ended\")\n",
    "\n",
    "\n",
    "\n",
    "print(\"\\t\\tWelcome to Automation Tool\")\n",
    "print(\"\\t\\t-------------------------\")\n",
    "print(\"Options: Open notepad | Launch Brave | Send WhatsApp\")\n",
    "print()\n",
    "\n",
    "user_request = input(\"How can I help? \").lower()\n",
    "\n",
    "# user_msg = user_request.split()\n",
    "\n",
    "if \"notepad\" in user_request and \"don't\" not in user_request:\n",
    "    os.system(\"notepad\")\n",
    "    print(\"Notepad launched successfully!\")\n",
    "elif \"brave\" in user_request or \"browser\" in user_request:\n",
    "    os.system(\"brave\")\n",
    "    print(\"Brave browser opened!\")\n",
    "elif \"whatsapp\" in user_request:\n",
    "    pywhatkit.sendwhatmsg(\"+919002439467\", \"Automated message\", scheduled_time.hour , scheduled_time.minute, 60)\n",
    "    print(\"WhatsApp message scheduled!\")\n",
    "else:\n",
    "    print(\"Sorry, I didn't understand that request.\")"
   ]
  },
  {
   "cell_type": "code",
   "execution_count": null,
   "id": "81554ab0",
   "metadata": {},
   "outputs": [],
   "source": []
  }
 ],
 "metadata": {
  "kernelspec": {
   "display_name": "base",
   "language": "python",
   "name": "python3"
  },
  "language_info": {
   "codemirror_mode": {
    "name": "ipython",
    "version": 3
   },
   "file_extension": ".py",
   "mimetype": "text/x-python",
   "name": "python",
   "nbconvert_exporter": "python",
   "pygments_lexer": "ipython3",
   "version": "3.11.7"
  }
 },
 "nbformat": 4,
 "nbformat_minor": 5
}

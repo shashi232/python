{
 "cells": [
  {
   "cell_type": "code",
   "execution_count": null,
   "id": "c33225bc",
   "metadata": {},
   "outputs": [],
   "source": [
    "import os\n",
    "import pywhatkit\n",
    "\n",
    "print(\"\\t\\tWelcome to Automation Tool\")\n",
    "print(\"\\t\\t-------------------------\")\n",
    "print(\"Options: Open notepad | Launch Chrome | Send WhatsApp\")\n",
    "print()\n",
    "\n",
    "user_request = input(\"How can I help? \").lower()\n",
    "\n",
    "# Natural language processing\n",
    "if \"notepad\" in user_request and \"don't\" not in user_request:\n",
    "    os.system(\"notepad\")\n",
    "    print(\"Notepad launched successfully!\")\n",
    "elif \"chrome\" in user_request:\n",
    "    os.system(\"chrome\")\n",
    "    print(\"Chrome browser opened!\")\n",
    "elif \"whatsapp\" in user_request:\n",
    "    pywhatkit.sendwhatmsg(\"+1234567890\", \"Automated message\", 10, 30)\n",
    "    print(\"WhatsApp message scheduled!\")\n",
    "else:\n",
    "    print(\"Sorry, I didn't understand that request.\")"
   ]
  }
 ],
 "metadata": {
  "language_info": {
   "name": "python"
  }
 },
 "nbformat": 4,
 "nbformat_minor": 5
}

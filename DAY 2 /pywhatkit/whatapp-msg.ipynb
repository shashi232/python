{
 "cells": [
  {
   "cell_type": "code",
   "execution_count": 6,
   "id": "226febf3-db84-4b68-b269-b83e06c0d8fc",
   "metadata": {},
   "outputs": [],
   "source": [
    "import pywhatkit \n"
   ]
  },
  {
   "cell_type": "code",
   "execution_count": null,
   "id": "ec6d1691-d96f-44bf-b754-8339ba3647e3",
   "metadata": {},
   "outputs": [],
   "source": [
    "pywhatkit.sendwhatmsg(\"+919002439467\", \"hello its me\" , 14,2) "
   ]
  },
  {
   "cell_type": "code",
   "execution_count": null,
   "id": "f3bc241f-ee8f-4a0c-bd0d-5f44daac675b",
   "metadata": {},
   "outputs": [],
   "source": []
  },
  {
   "cell_type": "code",
   "execution_count": null,
   "id": "0b489eb1-9b52-4efd-b2fc-c7ac6d0e73ad",
   "metadata": {},
   "outputs": [],
   "source": []
  },
  {
   "cell_type": "code",
   "execution_count": null,
   "id": "839fc014-7074-4404-aee0-559704e0a565",
   "metadata": {},
   "outputs": [],
   "source": []
  }
 ],
 "metadata": {
  "kernelspec": {
   "display_name": "Python [conda env:base] *",
   "language": "python",
   "name": "conda-base-py"
  },
  "language_info": {
   "codemirror_mode": {
    "name": "ipython",
    "version": 3
   },
   "file_extension": ".py",
   "mimetype": "text/x-python",
   "name": "python",
   "nbconvert_exporter": "python",
   "pygments_lexer": "ipython3",
   "version": "3.11.7"
  }
 },
 "nbformat": 4,
 "nbformat_minor": 5
}

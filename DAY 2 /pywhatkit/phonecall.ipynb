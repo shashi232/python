{
 "cells": [
  {
   "cell_type": "code",
   "execution_count": 1,
   "id": "38d09ae0-e114-421c-abac-20dde83b5f4d",
   "metadata": {},
   "outputs": [],
   "source": [
    "import phonenumbers\n"
   ]
  },
  {
   "cell_type": "code",
   "execution_count": 7,
   "id": "d8eac017-e240-4386-90b1-66575688910a",
   "metadata": {},
   "outputs": [
    {
     "name": "stdout",
     "output_type": "stream",
     "text": [
      "Country Code: 91 National Number: 9002439467\n"
     ]
    }
   ],
   "source": [
    "call = phonenumbers.parse(\"+919002439467\")\n",
    "print(call)"
   ]
  }
 ],
 "metadata": {
  "kernelspec": {
   "display_name": "Python [conda env:base] *",
   "language": "python",
   "name": "conda-base-py"
  },
  "language_info": {
   "codemirror_mode": {
    "name": "ipython",
    "version": 3
   },
   "file_extension": ".py",
   "mimetype": "text/x-python",
   "name": "python",
   "nbconvert_exporter": "python",
   "pygments_lexer": "ipython3",
   "version": "3.11.7"
  }
 },
 "nbformat": 4,
 "nbformat_minor": 5
}

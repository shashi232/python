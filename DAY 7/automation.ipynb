{
 "cells": [
  {
   "cell_type": "code",
   "execution_count": 18,
   "id": "4ba53cbe",
   "metadata": {},
   "outputs": [
    {
     "name": "stdout",
     "output_type": "stream",
     "text": [
      "\t\tWelcome to Automation Tool\n",
      "\t\t-------------------------\n",
      "Options: Open notepad | Launch Brave | Send WhatsApp\n",
      "\n"
     ]
    },
    {
     "name": "stderr",
     "output_type": "stream",
     "text": [
      "ALSA lib pcm_dsnoop.c:567:(snd_pcm_dsnoop_open) unable to open slave\n",
      "ALSA lib pcm_dmix.c:1000:(snd_pcm_dmix_open) unable to open slave\n",
      "ALSA lib pcm.c:2722:(snd_pcm_open_noupdate) Unknown PCM cards.pcm.rear\n",
      "ALSA lib pcm.c:2722:(snd_pcm_open_noupdate) Unknown PCM cards.pcm.center_lfe\n",
      "ALSA lib pcm.c:2722:(snd_pcm_open_noupdate) Unknown PCM cards.pcm.side\n",
      "ALSA lib pcm_dmix.c:1000:(snd_pcm_dmix_open) unable to open slave\n",
      "ALSA lib pcm_dsnoop.c:567:(snd_pcm_dsnoop_open) unable to open slave\n",
      "ALSA lib pcm_dmix.c:1000:(snd_pcm_dmix_open) unable to open slave\n",
      "ALSA lib pcm.c:2722:(snd_pcm_open_noupdate) Unknown PCM cards.pcm.rear\n",
      "ALSA lib pcm.c:2722:(snd_pcm_open_noupdate) Unknown PCM cards.pcm.center_lfe\n",
      "ALSA lib pcm.c:2722:(snd_pcm_open_noupdate) Unknown PCM cards.pcm.side\n",
      "ALSA lib pcm_dmix.c:1000:(snd_pcm_dmix_open) unable to open slave\n"
     ]
    },
    {
     "name": "stdout",
     "output_type": "stream",
     "text": [
      "recording started\n",
      "recoding ended\n",
      "open terminal\n",
      "Opening terminal\n"
     ]
    },
    {
     "name": "stderr",
     "output_type": "stream",
     "text": [
      "[0.770] The output buffer does not support sRGB color encoding, colors will be incorrect.\n"
     ]
    }
   ],
   "source": [
    "import os\n",
    "import pywhatkit\n",
    "import datetime\n",
    "import speech_recognition as sr\n",
    "\n",
    "# this for datetime module\n",
    "time = datetime.datetime.now()\n",
    "scheduled_time = time + datetime.timedelta(minutes=2)\n",
    "\n",
    "print(\"\\t\\tWelcome to Automation Tool\")\n",
    "print(\"\\t\\t-------------------------\")\n",
    "print(\"Options: Open notepad | Launch Brave | Send WhatsApp\")\n",
    "print()\n",
    "\n",
    "# this is for speechrecognition module\n",
    "myai = sr.Recognizer()\n",
    "with sr.Microphone() as mic:\n",
    "    print(\"recording started\")\n",
    "    recoding = myai.listen(mic)\n",
    "    print(\"recoding ended\")\n",
    "\n",
    "data = myai.recognize_google(recoding)\n",
    "\n",
    "user_request = data\n",
    "\n",
    "print(data)\n",
    "\n",
    "# user_msg = user_request.split()\n",
    "\n",
    "if \"notepad\" in user_request and \"don't\" not in user_request:\n",
    "    os.system(\"notepad\")\n",
    "    print(\"Notepad launched successfully!\")\n",
    "elif \"brave\" in user_request or \"browser\" in user_request:\n",
    "    os.system(\"brave\")\n",
    "    print(\"Brave browser opened!\")\n",
    "elif \"whatsapp\" in user_request:\n",
    "    pywhatkit.sendwhatmsg(\"+919002439467\", \"Automated message\", scheduled_time.hour , scheduled_time.minute, 60)\n",
    "    print(\"WhatsApp message scheduled!\")\n",
    "elif \"terminal\" in user_request:\n",
    "    print(\"Opening terminal\")\n",
    "    os.system(\"kitty\")\n",
    "else:\n",
    "    print(\"Sorry, I didn't understand that request.\")"
   ]
  },
  {
   "cell_type": "code",
   "execution_count": null,
   "id": "4eebb281-fe01-4aa5-9136-bc06c06da430",
   "metadata": {},
   "outputs": [],
   "source": []
  }
 ],
 "metadata": {
  "kernelspec": {
   "display_name": "Python [conda env:base] *",
   "language": "python",
   "name": "conda-base-py"
  },
  "language_info": {
   "codemirror_mode": {
    "name": "ipython",
    "version": 3
   },
   "file_extension": ".py",
   "mimetype": "text/x-python",
   "name": "python",
   "nbconvert_exporter": "python",
   "pygments_lexer": "ipython3",
   "version": "3.11.7"
  }
 },
 "nbformat": 4,
 "nbformat_minor": 5
}

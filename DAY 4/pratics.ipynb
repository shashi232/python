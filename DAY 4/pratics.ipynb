{
 "cells": [
  {
   "cell_type": "code",
   "execution_count": 18,
   "id": "b799445e",
   "metadata": {},
   "outputs": [
    {
     "data": {
      "text/plain": [
       "array(['veer', 'hi'], dtype='<U21')"
      ]
     },
     "execution_count": 18,
     "metadata": {},
     "output_type": "execute_result"
    }
   ],
   "source": [
    "import numpy\n",
    "la = [\n",
    "    [1,2,3],\n",
    "    ['shashi','ravi','veer'],\n",
    "    ['hello','hey','hi']\n",
    "]\n",
    "ls = numpy.array(la)\n",
    "ls[1:3,2]\n"
   ]
  },
  {
   "cell_type": "code",
   "execution_count": null,
   "id": "2a2e0cad",
   "metadata": {},
   "outputs": [
    {
     "ename": "SyntaxError",
     "evalue": "invalid syntax (707842720.py, line 3)",
     "output_type": "error",
     "traceback": [
      "\u001b[0;36m  Cell \u001b[0;32mIn[2], line 3\u001b[0;36m\u001b[0m\n\u001b[0;31m    cam = cv2.\u001b[0m\n\u001b[0m              ^\u001b[0m\n\u001b[0;31mSyntaxError\u001b[0m\u001b[0;31m:\u001b[0m invalid syntax\n"
     ]
    }
   ],
   "source": [
    "import CV2\n",
    "\n",
    "cam = cv2.\n",
    "print(\"hellopus\")\n"
   ]
  },
  {
   "cell_type": "code",
   "execution_count": null,
   "id": "fd789ad9",
   "metadata": {},
   "outputs": [],
   "source": []
  }
 ],
 "metadata": {
  "kernelspec": {
   "display_name": "base",
   "language": "python",
   "name": "python3"
  },
  "language_info": {
   "codemirror_mode": {
    "name": "ipython",
    "version": 3
   },
   "file_extension": ".py",
   "mimetype": "text/x-python",
   "name": "python",
   "nbconvert_exporter": "python",
   "pygments_lexer": "ipython3",
   "version": "3.11.7"
  }
 },
 "nbformat": 4,
 "nbformat_minor": 5
}

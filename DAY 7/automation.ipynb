{
 "cells": [
  {
   "cell_type": "code",
   "execution_count": 4,
   "id": "4ba53cbe",
   "metadata": {},
   "outputs": [
    {
     "name": "stdout",
     "output_type": "stream",
     "text": [
      "\t\tWelcome to Automation Tool\n",
      "\t\t-------------------------\n",
      "Options: Open notepad | Launch Brave | Send WhatsApp\n",
      "\n"
     ]
    },
    {
     "name": "stderr",
     "output_type": "stream",
     "text": [
      "ALSA lib pcm_dsnoop.c:567:(snd_pcm_dsnoop_open) unable to open slave\n",
      "ALSA lib pcm_dmix.c:1000:(snd_pcm_dmix_open) unable to open slave\n",
      "ALSA lib pcm.c:2722:(snd_pcm_open_noupdate) Unknown PCM cards.pcm.rear\n",
      "ALSA lib pcm.c:2722:(snd_pcm_open_noupdate) Unknown PCM cards.pcm.center_lfe\n",
      "ALSA lib pcm.c:2722:(snd_pcm_open_noupdate) Unknown PCM cards.pcm.side\n",
      "ALSA lib pcm_dmix.c:1000:(snd_pcm_dmix_open) unable to open slave\n",
      "ALSA lib pcm_dsnoop.c:567:(snd_pcm_dsnoop_open) unable to open slave\n",
      "ALSA lib pcm_dmix.c:1000:(snd_pcm_dmix_open) unable to open slave\n",
      "ALSA lib pcm.c:2722:(snd_pcm_open_noupdate) Unknown PCM cards.pcm.rear\n",
      "ALSA lib pcm.c:2722:(snd_pcm_open_noupdate) Unknown PCM cards.pcm.center_lfe\n",
      "ALSA lib pcm.c:2722:(snd_pcm_open_noupdate) Unknown PCM cards.pcm.side\n",
      "ALSA lib pcm_dmix.c:1000:(snd_pcm_dmix_open) unable to open slave\n"
     ]
    },
    {
     "name": "stdout",
     "output_type": "stream",
     "text": [
      "recording started\n",
      "recoding ended\n"
     ]
    },
    {
     "ename": "UnknownValueError",
     "evalue": "",
     "output_type": "error",
     "traceback": [
      "\u001b[0;31m---------------------------------------------------------------------------\u001b[0m",
      "\u001b[0;31mUnknownValueError\u001b[0m                         Traceback (most recent call last)",
      "Cell \u001b[0;32mIn[4], line 23\u001b[0m\n\u001b[1;32m     20\u001b[0m     recoding \u001b[38;5;241m=\u001b[39m myai\u001b[38;5;241m.\u001b[39mlisten(mic)\n\u001b[1;32m     21\u001b[0m     \u001b[38;5;28mprint\u001b[39m(\u001b[38;5;124m\"\u001b[39m\u001b[38;5;124mrecoding ended\u001b[39m\u001b[38;5;124m\"\u001b[39m)\n\u001b[0;32m---> 23\u001b[0m data \u001b[38;5;241m=\u001b[39m myai\u001b[38;5;241m.\u001b[39mrecognize_google(recoding)\n\u001b[1;32m     25\u001b[0m user_request \u001b[38;5;241m=\u001b[39m data\n\u001b[1;32m     27\u001b[0m \u001b[38;5;28mprint\u001b[39m(data)\n",
      "File \u001b[0;32m~/anaconda3/lib/python3.11/site-packages/speech_recognition/recognizers/google.py:262\u001b[0m, in \u001b[0;36mrecognize_legacy\u001b[0;34m(recognizer, audio_data, key, language, pfilter, show_all, with_confidence, endpoint)\u001b[0m\n\u001b[1;32m    255\u001b[0m response_text \u001b[38;5;241m=\u001b[39m obtain_transcription(\n\u001b[1;32m    256\u001b[0m     request, timeout\u001b[38;5;241m=\u001b[39mrecognizer\u001b[38;5;241m.\u001b[39moperation_timeout\n\u001b[1;32m    257\u001b[0m )\n\u001b[1;32m    259\u001b[0m output_parser \u001b[38;5;241m=\u001b[39m OutputParser(\n\u001b[1;32m    260\u001b[0m     show_all\u001b[38;5;241m=\u001b[39mshow_all, with_confidence\u001b[38;5;241m=\u001b[39mwith_confidence\n\u001b[1;32m    261\u001b[0m )\n\u001b[0;32m--> 262\u001b[0m \u001b[38;5;28;01mreturn\u001b[39;00m output_parser\u001b[38;5;241m.\u001b[39mparse(response_text)\n",
      "File \u001b[0;32m~/anaconda3/lib/python3.11/site-packages/speech_recognition/recognizers/google.py:134\u001b[0m, in \u001b[0;36mOutputParser.parse\u001b[0;34m(self, response_text)\u001b[0m\n\u001b[1;32m    133\u001b[0m \u001b[38;5;28;01mdef\u001b[39;00m \u001b[38;5;21mparse\u001b[39m(\u001b[38;5;28mself\u001b[39m, response_text: \u001b[38;5;28mstr\u001b[39m):\n\u001b[0;32m--> 134\u001b[0m     actual_result \u001b[38;5;241m=\u001b[39m \u001b[38;5;28mself\u001b[39m\u001b[38;5;241m.\u001b[39mconvert_to_result(response_text)\n\u001b[1;32m    135\u001b[0m     \u001b[38;5;28;01mif\u001b[39;00m \u001b[38;5;28mself\u001b[39m\u001b[38;5;241m.\u001b[39mshow_all:\n\u001b[1;32m    136\u001b[0m         \u001b[38;5;28;01mreturn\u001b[39;00m actual_result\n",
      "File \u001b[0;32m~/anaconda3/lib/python3.11/site-packages/speech_recognition/recognizers/google.py:183\u001b[0m, in \u001b[0;36mOutputParser.convert_to_result\u001b[0;34m(response_text)\u001b[0m\n\u001b[1;32m    181\u001b[0m             \u001b[38;5;28;01mraise\u001b[39;00m UnknownValueError()\n\u001b[1;32m    182\u001b[0m         \u001b[38;5;28;01mreturn\u001b[39;00m result[\u001b[38;5;241m0\u001b[39m]\n\u001b[0;32m--> 183\u001b[0m \u001b[38;5;28;01mraise\u001b[39;00m UnknownValueError()\n",
      "\u001b[0;31mUnknownValueError\u001b[0m: "
     ]
    }
   ],
   "source": [
    "import os\n",
    "import pywhatkit\n",
    "import datetime\n",
    "import speech_recognition as sr\n",
    "\n",
    "# this for datetime module\n",
    "time = datetime.datetime.now()\n",
    "scheduled_time = time + datetime.timedelta(minutes=2)\n",
    "\n",
    "print(\"\\t\\tWelcome to Automation Tool\")\n",
    "print(\"\\t\\t-------------------------\")\n",
    "print(\"Options: Open notepad | Launch Brave | Send WhatsApp\")\n",
    "print()\n",
    "\n",
    "while True:\n",
    "    # this is for speechrecognition module\n",
    "    myai = sr.Recognizer()\n",
    "    with sr.Microphone() as mic:\n",
    "        print(\"recording started\")\n",
    "        recoding = myai.listen(mic)\n",
    "        print(\"recoding ended\")\n",
    "    \n",
    "    data = myai.recognize_google(recoding)\n",
    "    \n",
    "    user_request = data.lower()\n",
    "    \n",
    "    print(data)\n",
    "    \n",
    "    # user_msg = user_request.split()\n",
    "    \n",
    "    if \"notepad\" in user_request and \"don't\" not in user_request:\n",
    "        os.system(\"notepad\")\n",
    "        print(\"Notepad launched successfully!\")\n",
    "    elif \"brave\" in user_request or \"browser\" in user_request:\n",
    "        os.system(\"brave\")\n",
    "        print(\"Brave browser opened!\")\n",
    "    elif \"whatsapp\" in user_request:\n",
    "        pywhatkit.sendwhatmsg(\"+919002439467\", \"Automated message\", scheduled_time.hour , scheduled_time.minute, 60)\n",
    "        print(\"WhatsApp message scheduled!\")\n",
    "    elif \"terminal\" in user_request:\n",
    "        print(\"Opening terminal\")\n",
    "        os.system(\"kitty\")\n",
    "    elif \"close\" in user_request or \"stop\" in user_request:\n",
    "         break\n",
    "else:\n",
    "    print(\"Sorry, I didn't understand that request.\")"
   ]
  },
  {
   "cell_type": "code",
   "execution_count": null,
   "id": "4eebb281-fe01-4aa5-9136-bc06c06da430",
   "metadata": {},
   "outputs": [],
   "source": []
  }
 ],
 "metadata": {
  "kernelspec": {
   "display_name": "base",
   "language": "python",
   "name": "python3"
  },
  "language_info": {
   "codemirror_mode": {
    "name": "ipython",
    "version": 3
   },
   "file_extension": ".py",
   "mimetype": "text/x-python",
   "name": "python",
   "nbconvert_exporter": "python",
   "pygments_lexer": "ipython3",
   "version": "3.11.7"
  }
 },
 "nbformat": 4,
 "nbformat_minor": 5
}

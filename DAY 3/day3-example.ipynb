{
 "cells": [
  {
   "cell_type": "code",
   "execution_count": 1,
   "id": "5b4d2c9c-8fef-4ff2-bc5d-6bf412afadf2",
   "metadata": {},
   "outputs": [
    {
     "name": "stdout",
     "output_type": "stream",
     "text": [
      "good\n",
      "[2222, 3333, 4444, 5555]\n"
     ]
    }
   ],
   "source": [
    "list = [1111,2222,3333,4444,5555,6666]\n",
    "tuple = (1,2,3,4,5,6)\n",
    "#nested list\n",
    "nested = [[\"vjmat\", 1111, \"ok\", \"jaipur\"],[\"rwhul\", 2222, \"good\", \"num\"]]\n",
    "\n",
    "#tuple[2] = 9999  #this will give error because tuple are immutalbe\n",
    "\n",
    "print(nested[1][2])\n",
    "print(list[1:5]) "
   ]
  }
 ],
 "metadata": {
  "kernelspec": {
   "display_name": "base",
   "language": "python",
   "name": "python3"
  },
  "language_info": {
   "codemirror_mode": {
    "name": "ipython",
    "version": 3
   },
   "file_extension": ".py",
   "mimetype": "text/x-python",
   "name": "python",
   "nbconvert_exporter": "python",
   "pygments_lexer": "ipython3",
   "version": "3.11.7"
  }
 },
 "nbformat": 4,
 "nbformat_minor": 5
}
